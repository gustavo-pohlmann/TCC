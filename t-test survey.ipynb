{
 "cells": [
  {
   "cell_type": "code",
   "execution_count": 16,
   "metadata": {},
   "outputs": [],
   "source": [
    "import pandas as pd\n",
    "from scipy import stats"
   ]
  },
  {
   "cell_type": "code",
   "execution_count": 17,
   "metadata": {},
   "outputs": [],
   "source": [
    "df = pd.read_clipboard()"
   ]
  },
  {
   "cell_type": "code",
   "execution_count": 18,
   "metadata": {},
   "outputs": [],
   "source": [
    "df['Média Pirata'] = pd.to_numeric(df['Média Pirata'].str.replace(',','.'))"
   ]
  },
  {
   "cell_type": "code",
   "execution_count": 19,
   "metadata": {},
   "outputs": [
    {
     "data": {
      "text/plain": [
       "Ttest_1sampResult(statistic=1.605446232518581, pvalue=0.10941053240470955)"
      ]
     },
     "execution_count": 19,
     "metadata": {},
     "output_type": "execute_result"
    }
   ],
   "source": [
    "stats.ttest_1samp(df['Média Pirata'][df.Amostra=='A'], 3.0)"
   ]
  },
  {
   "cell_type": "code",
   "execution_count": 20,
   "metadata": {},
   "outputs": [],
   "source": [
    "d = {}\n",
    "for col in df.columns[1:]:\n",
    "    d[col] = stats.ttest_1samp(df[col],3.0)"
   ]
  },
  {
   "cell_type": "code",
   "execution_count": 21,
   "metadata": {},
   "outputs": [],
   "source": [
    "da = {}\n",
    "for col in df[df.Amostra=='A'].columns[1:]:\n",
    "    da[col] = stats.ttest_1samp(df[df.Amostra=='A'][col],3.0)"
   ]
  },
  {
   "cell_type": "code",
   "execution_count": 22,
   "metadata": {},
   "outputs": [],
   "source": [
    "db = {}\n",
    "for col in df[df.Amostra=='B'].columns[1:]:\n",
    "    db[col] = stats.ttest_1samp(df[df.Amostra=='B'][col],3.0)"
   ]
  },
  {
   "cell_type": "code",
   "execution_count": 23,
   "metadata": {
    "scrolled": false
   },
   "outputs": [
    {
     "data": {
      "text/html": [
       "<div>\n",
       "<style scoped>\n",
       "    .dataframe tbody tr th:only-of-type {\n",
       "        vertical-align: middle;\n",
       "    }\n",
       "\n",
       "    .dataframe tbody tr th {\n",
       "        vertical-align: top;\n",
       "    }\n",
       "\n",
       "    .dataframe thead th {\n",
       "        text-align: right;\n",
       "    }\n",
       "</style>\n",
       "<table border=\"1\" class=\"dataframe\">\n",
       "  <thead>\n",
       "    <tr style=\"text-align: right;\">\n",
       "      <th></th>\n",
       "      <th>t-value</th>\n",
       "      <th>p-value</th>\n",
       "    </tr>\n",
       "  </thead>\n",
       "  <tbody>\n",
       "    <tr>\n",
       "      <th>Média Pirata</th>\n",
       "      <td>-4.810384</td>\n",
       "      <td>2.011781e-06</td>\n",
       "    </tr>\n",
       "    <tr>\n",
       "      <th>Quando não encontro uma série ou filme em um serviço de streaming que assino, busco outros serviços legítimos que eu possa assinar para assistir</th>\n",
       "      <td>-2.198353</td>\n",
       "      <td>2.839366e-02</td>\n",
       "    </tr>\n",
       "    <tr>\n",
       "      <th>Acredito que serviços de streaming cobram preços justos pelos serviços prestados</th>\n",
       "      <td>11.930270</td>\n",
       "      <td>5.806717e-29</td>\n",
       "    </tr>\n",
       "    <tr>\n",
       "      <th>Quando não encontro uma série ou filme em um serviço de streaming que assino, busco sites de pirataria onde posso assistir sem fazer downloads</th>\n",
       "      <td>-1.454237</td>\n",
       "      <td>1.465247e-01</td>\n",
       "    </tr>\n",
       "    <tr>\n",
       "      <th>Quando não encontro uma série ou filme em um serviço de streaming que assino, busco a mesma no Youtube para assistir gratuitamente</th>\n",
       "      <td>-2.138664</td>\n",
       "      <td>3.295972e-02</td>\n",
       "    </tr>\n",
       "    <tr>\n",
       "      <th>Se existe uma opção gratuita para assistir um filme ou série lançada em um serviço que não assino, não busco assinar outros serviços de streaming adicionais para assistí-la</th>\n",
       "      <td>14.407988</td>\n",
       "      <td>1.864413e-39</td>\n",
       "    </tr>\n",
       "    <tr>\n",
       "      <th>Normalmente, busco conteúdos novos diretamente em sites de pirataria antes de buscar em serviços de streaming</th>\n",
       "      <td>-25.580803</td>\n",
       "      <td>4.049124e-92</td>\n",
       "    </tr>\n",
       "    <tr>\n",
       "      <th>Quando não encontro uma série ou filme em um serviço de streaming que assino, busco sites de pirataria onde posso baixar o conteúdo que desejo</th>\n",
       "      <td>-5.094594</td>\n",
       "      <td>5.007198e-07</td>\n",
       "    </tr>\n",
       "  </tbody>\n",
       "</table>\n",
       "</div>"
      ],
      "text/plain": [
       "                                                      t-value       p-value\n",
       "Média Pirata                                        -4.810384  2.011781e-06\n",
       "Quando não encontro uma série ou filme em um se...  -2.198353  2.839366e-02\n",
       "Acredito que serviços de streaming cobram preço...  11.930270  5.806717e-29\n",
       "Quando não encontro uma série ou filme em um se...  -1.454237  1.465247e-01\n",
       "Quando não encontro uma série ou filme em um se...  -2.138664  3.295972e-02\n",
       "Se existe uma opção gratuita para assistir um f...  14.407988  1.864413e-39\n",
       "Normalmente, busco conteúdos novos diretamente ... -25.580803  4.049124e-92\n",
       "Quando não encontro uma série ou filme em um se...  -5.094594  5.007198e-07"
      ]
     },
     "execution_count": 23,
     "metadata": {},
     "output_type": "execute_result"
    }
   ],
   "source": [
    "pd.DataFrame(d).transpose().rename({0:'t-value',1:'p-value'}, axis=1)"
   ]
  },
  {
   "cell_type": "code",
   "execution_count": 24,
   "metadata": {},
   "outputs": [
    {
     "data": {
      "text/html": [
       "<div>\n",
       "<style scoped>\n",
       "    .dataframe tbody tr th:only-of-type {\n",
       "        vertical-align: middle;\n",
       "    }\n",
       "\n",
       "    .dataframe tbody tr th {\n",
       "        vertical-align: top;\n",
       "    }\n",
       "\n",
       "    .dataframe thead th {\n",
       "        text-align: right;\n",
       "    }\n",
       "</style>\n",
       "<table border=\"1\" class=\"dataframe\">\n",
       "  <thead>\n",
       "    <tr style=\"text-align: right;\">\n",
       "      <th></th>\n",
       "      <th>t-value</th>\n",
       "      <th>p-value</th>\n",
       "    </tr>\n",
       "  </thead>\n",
       "  <tbody>\n",
       "    <tr>\n",
       "      <th>Média Pirata</th>\n",
       "      <td>1.605446</td>\n",
       "      <td>1.094105e-01</td>\n",
       "    </tr>\n",
       "    <tr>\n",
       "      <th>Quando não encontro uma série ou filme em um serviço de streaming que assino, busco outros serviços legítimos que eu possa assinar para assistir</th>\n",
       "      <td>-5.023820</td>\n",
       "      <td>8.557157e-07</td>\n",
       "    </tr>\n",
       "    <tr>\n",
       "      <th>Acredito que serviços de streaming cobram preços justos pelos serviços prestados</th>\n",
       "      <td>11.863045</td>\n",
       "      <td>4.962852e-27</td>\n",
       "    </tr>\n",
       "    <tr>\n",
       "      <th>Quando não encontro uma série ou filme em um serviço de streaming que assino, busco sites de pirataria onde posso assistir sem fazer downloads</th>\n",
       "      <td>5.411435</td>\n",
       "      <td>1.250581e-07</td>\n",
       "    </tr>\n",
       "    <tr>\n",
       "      <th>Quando não encontro uma série ou filme em um serviço de streaming que assino, busco a mesma no Youtube para assistir gratuitamente</th>\n",
       "      <td>-1.223076</td>\n",
       "      <td>2.222271e-01</td>\n",
       "    </tr>\n",
       "    <tr>\n",
       "      <th>Se existe uma opção gratuita para assistir um filme ou série lançada em um serviço que não assino, não busco assinar outros serviços de streaming adicionais para assistí-la</th>\n",
       "      <td>15.473212</td>\n",
       "      <td>1.907430e-40</td>\n",
       "    </tr>\n",
       "    <tr>\n",
       "      <th>Normalmente, busco conteúdos novos diretamente em sites de pirataria antes de buscar em serviços de streaming</th>\n",
       "      <td>-16.127141</td>\n",
       "      <td>6.048851e-43</td>\n",
       "    </tr>\n",
       "    <tr>\n",
       "      <th>Quando não encontro uma série ou filme em um serviço de streaming que assino, busco sites de pirataria onde posso baixar o conteúdo que desejo</th>\n",
       "      <td>1.069291</td>\n",
       "      <td>2.857680e-01</td>\n",
       "    </tr>\n",
       "  </tbody>\n",
       "</table>\n",
       "</div>"
      ],
      "text/plain": [
       "                                                      t-value       p-value\n",
       "Média Pirata                                         1.605446  1.094105e-01\n",
       "Quando não encontro uma série ou filme em um se...  -5.023820  8.557157e-07\n",
       "Acredito que serviços de streaming cobram preço...  11.863045  4.962852e-27\n",
       "Quando não encontro uma série ou filme em um se...   5.411435  1.250581e-07\n",
       "Quando não encontro uma série ou filme em um se...  -1.223076  2.222271e-01\n",
       "Se existe uma opção gratuita para assistir um f...  15.473212  1.907430e-40\n",
       "Normalmente, busco conteúdos novos diretamente ... -16.127141  6.048851e-43\n",
       "Quando não encontro uma série ou filme em um se...   1.069291  2.857680e-01"
      ]
     },
     "execution_count": 24,
     "metadata": {},
     "output_type": "execute_result"
    }
   ],
   "source": [
    "pd.DataFrame(da).transpose().rename({0:'t-value',1:'p-value'}, axis=1)"
   ]
  },
  {
   "cell_type": "code",
   "execution_count": 25,
   "metadata": {},
   "outputs": [
    {
     "data": {
      "text/html": [
       "<div>\n",
       "<style scoped>\n",
       "    .dataframe tbody tr th:only-of-type {\n",
       "        vertical-align: middle;\n",
       "    }\n",
       "\n",
       "    .dataframe tbody tr th {\n",
       "        vertical-align: top;\n",
       "    }\n",
       "\n",
       "    .dataframe thead th {\n",
       "        text-align: right;\n",
       "    }\n",
       "</style>\n",
       "<table border=\"1\" class=\"dataframe\">\n",
       "  <thead>\n",
       "    <tr style=\"text-align: right;\">\n",
       "      <th></th>\n",
       "      <th>t-value</th>\n",
       "      <th>p-value</th>\n",
       "    </tr>\n",
       "  </thead>\n",
       "  <tbody>\n",
       "    <tr>\n",
       "      <th>Média Pirata</th>\n",
       "      <td>-10.930817</td>\n",
       "      <td>1.567636e-21</td>\n",
       "    </tr>\n",
       "    <tr>\n",
       "      <th>Quando não encontro uma série ou filme em um serviço de streaming que assino, busco outros serviços legítimos que eu possa assinar para assistir</th>\n",
       "      <td>2.971229</td>\n",
       "      <td>3.383349e-03</td>\n",
       "    </tr>\n",
       "    <tr>\n",
       "      <th>Acredito que serviços de streaming cobram preços justos pelos serviços prestados</th>\n",
       "      <td>4.658605</td>\n",
       "      <td>6.279962e-06</td>\n",
       "    </tr>\n",
       "    <tr>\n",
       "      <th>Quando não encontro uma série ou filme em um serviço de streaming que assino, busco sites de pirataria onde posso assistir sem fazer downloads</th>\n",
       "      <td>-11.599471</td>\n",
       "      <td>1.926424e-23</td>\n",
       "    </tr>\n",
       "    <tr>\n",
       "      <th>Quando não encontro uma série ou filme em um serviço de streaming que assino, busco a mesma no Youtube para assistir gratuitamente</th>\n",
       "      <td>-1.939542</td>\n",
       "      <td>5.404332e-02</td>\n",
       "    </tr>\n",
       "    <tr>\n",
       "      <th>Se existe uma opção gratuita para assistir um filme ou série lançada em um serviço que não assino, não busco assinar outros serviços de streaming adicionais para assistí-la</th>\n",
       "      <td>4.784545</td>\n",
       "      <td>3.626387e-06</td>\n",
       "    </tr>\n",
       "    <tr>\n",
       "      <th>Normalmente, busco conteúdos novos diretamente em sites de pirataria antes de buscar em serviços de streaming</th>\n",
       "      <td>-26.136804</td>\n",
       "      <td>2.561659e-62</td>\n",
       "    </tr>\n",
       "    <tr>\n",
       "      <th>Quando não encontro uma série ou filme em um serviço de streaming que assino, busco sites de pirataria onde posso baixar o conteúdo que desejo</th>\n",
       "      <td>-13.090309</td>\n",
       "      <td>9.721010e-28</td>\n",
       "    </tr>\n",
       "  </tbody>\n",
       "</table>\n",
       "</div>"
      ],
      "text/plain": [
       "                                                      t-value       p-value\n",
       "Média Pirata                                       -10.930817  1.567636e-21\n",
       "Quando não encontro uma série ou filme em um se...   2.971229  3.383349e-03\n",
       "Acredito que serviços de streaming cobram preço...   4.658605  6.279962e-06\n",
       "Quando não encontro uma série ou filme em um se... -11.599471  1.926424e-23\n",
       "Quando não encontro uma série ou filme em um se...  -1.939542  5.404332e-02\n",
       "Se existe uma opção gratuita para assistir um f...   4.784545  3.626387e-06\n",
       "Normalmente, busco conteúdos novos diretamente ... -26.136804  2.561659e-62\n",
       "Quando não encontro uma série ou filme em um se... -13.090309  9.721010e-28"
      ]
     },
     "execution_count": 25,
     "metadata": {},
     "output_type": "execute_result"
    }
   ],
   "source": [
    "pd.DataFrame(db).transpose().rename({0:'t-value',1:'p-value'}, axis=1)"
   ]
  },
  {
   "cell_type": "markdown",
   "metadata": {},
   "source": [
    "## Validando manualmente os t-values"
   ]
  },
  {
   "cell_type": "markdown",
   "metadata": {},
   "source": [
    "$$t = \\frac{(\\bar{x}-\\mu)}{s/\\sqrt{N}}$$"
   ]
  },
  {
   "cell_type": "code",
   "execution_count": 26,
   "metadata": {},
   "outputs": [
    {
     "data": {
      "text/plain": [
       "0.9975075816420657"
      ]
     },
     "execution_count": 26,
     "metadata": {},
     "output_type": "execute_result"
    }
   ],
   "source": [
    "df['Média Pirata'].std()"
   ]
  },
  {
   "cell_type": "code",
   "execution_count": 27,
   "metadata": {},
   "outputs": [
    {
     "data": {
      "text/plain": [
       "-4.810384029717923"
      ]
     },
     "execution_count": 27,
     "metadata": {},
     "output_type": "execute_result"
    }
   ],
   "source": [
    "(df['Média Pirata'].mean() - 3.0)/(df['Média Pirata'].std()/len(df['Média Pirata'])**0.5)"
   ]
  },
  {
   "cell_type": "code",
   "execution_count": 28,
   "metadata": {},
   "outputs": [
    {
     "data": {
      "text/plain": [
       "1.6054462325185967"
      ]
     },
     "execution_count": 28,
     "metadata": {},
     "output_type": "execute_result"
    }
   ],
   "source": [
    "(df['Média Pirata'][df.Amostra=='A'].mean() - 3.0)/(df['Média Pirata'][df.Amostra=='A'].std()/len(df['Média Pirata'][df.Amostra=='A'])**0.5)"
   ]
  },
  {
   "cell_type": "code",
   "execution_count": 29,
   "metadata": {},
   "outputs": [
    {
     "data": {
      "text/plain": [
       "-10.930816923756852"
      ]
     },
     "execution_count": 29,
     "metadata": {},
     "output_type": "execute_result"
    }
   ],
   "source": [
    "(df['Média Pirata'][df.Amostra=='B'].mean() - 3.0)/(df['Média Pirata'][df.Amostra=='B'].std()/len(df['Média Pirata'][df.Amostra=='B'])**0.5)"
   ]
  },
  {
   "cell_type": "code",
   "execution_count": 30,
   "metadata": {},
   "outputs": [
    {
     "name": "stdout",
     "output_type": "stream",
     "text": [
      "487\n",
      "311\n",
      "175\n"
     ]
    }
   ],
   "source": [
    "# graus de liberdade\n",
    "print(len(df['Média Pirata'])-1)\n",
    "print(len(df['Média Pirata'][df.Amostra=='A'])-1)\n",
    "print(len(df['Média Pirata'][df.Amostra=='B'])-1)"
   ]
  },
  {
   "cell_type": "code",
   "execution_count": null,
   "metadata": {},
   "outputs": [],
   "source": []
  }
 ],
 "metadata": {
  "kernelspec": {
   "display_name": "Python 3",
   "language": "python",
   "name": "python3"
  },
  "language_info": {
   "codemirror_mode": {
    "name": "ipython",
    "version": 3
   },
   "file_extension": ".py",
   "mimetype": "text/x-python",
   "name": "python",
   "nbconvert_exporter": "python",
   "pygments_lexer": "ipython3",
   "version": "3.8.3"
  }
 },
 "nbformat": 4,
 "nbformat_minor": 4
}
