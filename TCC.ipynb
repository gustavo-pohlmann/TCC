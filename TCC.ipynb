{
 "cells": [
  {
   "cell_type": "code",
   "execution_count": 72,
   "metadata": {},
   "outputs": [],
   "source": [
    "import os\n",
    "import pandas as pd\n",
    "import matplotlib as plt\n",
    "import seaborn as sns"
   ]
  },
  {
   "cell_type": "code",
   "execution_count": 73,
   "metadata": {},
   "outputs": [],
   "source": [
    "sns.set(rc={'figure.figsize':(11, 4)})"
   ]
  },
  {
   "cell_type": "code",
   "execution_count": 2,
   "metadata": {},
   "outputs": [],
   "source": [
    "os.chdir(r\"C:\\Users\\Pohlmann\\Documents\\FGV\\8º Semestre\\OTCC/\")"
   ]
  },
  {
   "cell_type": "code",
   "execution_count": 3,
   "metadata": {},
   "outputs": [],
   "source": [
    "dirs = ['Data/','Data_Legitimate/']"
   ]
  },
  {
   "cell_type": "code",
   "execution_count": 4,
   "metadata": {},
   "outputs": [
    {
     "name": "stdout",
     "output_type": "stream",
     "text": [
      "Data/\n",
      "Data_Legitimate/\n"
     ]
    }
   ],
   "source": [
    "dic = {}\n",
    "for direc in dirs:\n",
    "    print(direc)\n",
    "    files = os.listdir(direc)\n",
    "    dic[direc] = {}\n",
    "    for file in files:\n",
    "        cfile = pd.read_csv(direc+file, index_col=0, header=0, sep=',')\n",
    "        cfile.rename(columns={cfile.columns[0]: file[:-4]}, inplace=True)\n",
    "        dic[direc][file[:-4]] = cfile"
   ]
  },
  {
   "cell_type": "code",
   "execution_count": 22,
   "metadata": {},
   "outputs": [],
   "source": [
    "prt = pd.concat(dic['Data/'], axis=1, ignore_index=False, sort=True)\n",
    "lgt = pd.concat(dic['Data_Legitimate/'], axis=1, ignore_index=False, sort=True)"
   ]
  },
  {
   "cell_type": "code",
   "execution_count": 23,
   "metadata": {},
   "outputs": [],
   "source": [
    "prt.columns = prt.columns.droplevel(0)\n",
    "lgt.columns = lgt.columns.droplevel(0)"
   ]
  },
  {
   "cell_type": "code",
   "execution_count": 39,
   "metadata": {},
   "outputs": [
    {
     "data": {
      "text/plain": [
       "Index(['utorrentcom', 'thepiratebayorg', 'superflixnet', 'vizertv',\n",
       "       'seuseriadocom', 'snaptubeappcomOUTLIER_MOSTLYOUTSIDEDOWNLOADS',\n",
       "       'assistirseriadosnet', 'animesonlinecc', 'megafilmeshdplusorg',\n",
       "       'maxseriestv'],\n",
       "      dtype='object')"
      ]
     },
     "execution_count": 39,
     "metadata": {},
     "output_type": "execute_result"
    }
   ],
   "source": [
    "prt.describe().sort_values(by='mean', axis=1, ascending=False).columns[:10]"
   ]
  },
  {
   "cell_type": "code",
   "execution_count": 54,
   "metadata": {},
   "outputs": [],
   "source": [
    "prt.index = pd.to_datetime(prt.index)\n",
    "lgt.index = pd.to_datetime(lgt.index)"
   ]
  },
  {
   "cell_type": "code",
   "execution_count": 63,
   "metadata": {},
   "outputs": [],
   "source": [
    "prt = prt.loc['2017-02-01':'2020-10-30']\n",
    "lgt = lgt.loc['2017-02-01':]"
   ]
  },
  {
   "cell_type": "code",
   "execution_count": 67,
   "metadata": {},
   "outputs": [
    {
     "data": {
      "text/html": [
       "<div>\n",
       "<style scoped>\n",
       "    .dataframe tbody tr th:only-of-type {\n",
       "        vertical-align: middle;\n",
       "    }\n",
       "\n",
       "    .dataframe tbody tr th {\n",
       "        vertical-align: top;\n",
       "    }\n",
       "\n",
       "    .dataframe thead th {\n",
       "        text-align: right;\n",
       "    }\n",
       "</style>\n",
       "<table border=\"1\" class=\"dataframe\">\n",
       "  <thead>\n",
       "    <tr style=\"text-align: right;\">\n",
       "      <th></th>\n",
       "      <th>utorrentcom</th>\n",
       "      <th>superflixnet</th>\n",
       "      <th>thepiratebayorg</th>\n",
       "      <th>vizertv</th>\n",
       "      <th>seuseriadocom</th>\n",
       "      <th>assistirseriadosnet</th>\n",
       "      <th>animesonlinecc</th>\n",
       "      <th>snaptubeappcomOUTLIER_MOSTLYOUTSIDEDOWNLOADS</th>\n",
       "      <th>maxseriestv</th>\n",
       "      <th>megafilmeshdplusorg</th>\n",
       "      <th>...</th>\n",
       "      <th>rjseriesorg</th>\n",
       "      <th>gtugacom</th>\n",
       "      <th>oneflixhdnet</th>\n",
       "      <th>askflixnet</th>\n",
       "      <th>megaserieshdonline</th>\n",
       "      <th>redecanaisblog</th>\n",
       "      <th>filmeseriesonlinehdorg</th>\n",
       "      <th>overflixvip</th>\n",
       "      <th>filmeshdtop</th>\n",
       "      <th>tugastreamclub</th>\n",
       "    </tr>\n",
       "  </thead>\n",
       "  <tbody>\n",
       "    <tr>\n",
       "      <th>count</th>\n",
       "      <td>1.368000e+03</td>\n",
       "      <td>1.368000e+03</td>\n",
       "      <td>1.368000e+03</td>\n",
       "      <td>1.368000e+03</td>\n",
       "      <td>1368.000000</td>\n",
       "      <td>1.368000e+03</td>\n",
       "      <td>1.368000e+03</td>\n",
       "      <td>1368.000000</td>\n",
       "      <td>1.368000e+03</td>\n",
       "      <td>1368.000000</td>\n",
       "      <td>...</td>\n",
       "      <td>1368.000000</td>\n",
       "      <td>1368.000000</td>\n",
       "      <td>1368.000000</td>\n",
       "      <td>1368.000000</td>\n",
       "      <td>1368.000000</td>\n",
       "      <td>1368.000000</td>\n",
       "      <td>1368.000000</td>\n",
       "      <td>1368.000000</td>\n",
       "      <td>1368.000000</td>\n",
       "      <td>1368.000000</td>\n",
       "    </tr>\n",
       "    <tr>\n",
       "      <th>mean</th>\n",
       "      <td>1.422499e+06</td>\n",
       "      <td>1.245146e+06</td>\n",
       "      <td>1.175270e+06</td>\n",
       "      <td>4.769613e+05</td>\n",
       "      <td>459530.393422</td>\n",
       "      <td>4.541377e+05</td>\n",
       "      <td>4.484172e+05</td>\n",
       "      <td>443915.971580</td>\n",
       "      <td>3.297801e+05</td>\n",
       "      <td>317066.837454</td>\n",
       "      <td>...</td>\n",
       "      <td>3885.662383</td>\n",
       "      <td>3516.256336</td>\n",
       "      <td>2665.878348</td>\n",
       "      <td>2573.676678</td>\n",
       "      <td>1344.023833</td>\n",
       "      <td>1318.372030</td>\n",
       "      <td>712.804497</td>\n",
       "      <td>257.972132</td>\n",
       "      <td>247.113732</td>\n",
       "      <td>60.147268</td>\n",
       "    </tr>\n",
       "    <tr>\n",
       "      <th>std</th>\n",
       "      <td>1.311989e+05</td>\n",
       "      <td>8.300944e+05</td>\n",
       "      <td>3.520659e+05</td>\n",
       "      <td>3.408549e+05</td>\n",
       "      <td>65199.797832</td>\n",
       "      <td>3.218354e+05</td>\n",
       "      <td>7.779182e+05</td>\n",
       "      <td>143074.590429</td>\n",
       "      <td>5.561714e+05</td>\n",
       "      <td>225183.196952</td>\n",
       "      <td>...</td>\n",
       "      <td>11313.721851</td>\n",
       "      <td>12769.534074</td>\n",
       "      <td>9014.906934</td>\n",
       "      <td>5576.513461</td>\n",
       "      <td>4379.683066</td>\n",
       "      <td>9231.767413</td>\n",
       "      <td>3956.204397</td>\n",
       "      <td>1456.035906</td>\n",
       "      <td>1733.514742</td>\n",
       "      <td>224.277244</td>\n",
       "    </tr>\n",
       "    <tr>\n",
       "      <th>min</th>\n",
       "      <td>8.060442e+05</td>\n",
       "      <td>0.000000e+00</td>\n",
       "      <td>1.580593e+03</td>\n",
       "      <td>0.000000e+00</td>\n",
       "      <td>24024.944127</td>\n",
       "      <td>2.000000e-06</td>\n",
       "      <td>3.450000e-04</td>\n",
       "      <td>65215.720679</td>\n",
       "      <td>4.112000e+01</td>\n",
       "      <td>81088.450890</td>\n",
       "      <td>...</td>\n",
       "      <td>0.004513</td>\n",
       "      <td>0.000298</td>\n",
       "      <td>0.000000</td>\n",
       "      <td>0.000000</td>\n",
       "      <td>0.000000</td>\n",
       "      <td>0.000000</td>\n",
       "      <td>0.000000</td>\n",
       "      <td>0.000240</td>\n",
       "      <td>0.004034</td>\n",
       "      <td>0.000000</td>\n",
       "    </tr>\n",
       "    <tr>\n",
       "      <th>25%</th>\n",
       "      <td>1.328407e+06</td>\n",
       "      <td>9.172623e+05</td>\n",
       "      <td>9.779898e+05</td>\n",
       "      <td>1.418891e+05</td>\n",
       "      <td>432347.716078</td>\n",
       "      <td>2.153035e+05</td>\n",
       "      <td>6.440000e-04</td>\n",
       "      <td>349609.555789</td>\n",
       "      <td>4.112000e+01</td>\n",
       "      <td>135833.004620</td>\n",
       "      <td>...</td>\n",
       "      <td>0.004513</td>\n",
       "      <td>0.000298</td>\n",
       "      <td>0.002576</td>\n",
       "      <td>0.000000</td>\n",
       "      <td>0.000000</td>\n",
       "      <td>0.000000</td>\n",
       "      <td>0.000000</td>\n",
       "      <td>0.000240</td>\n",
       "      <td>0.005167</td>\n",
       "      <td>0.000000</td>\n",
       "    </tr>\n",
       "    <tr>\n",
       "      <th>50%</th>\n",
       "      <td>1.413784e+06</td>\n",
       "      <td>1.250325e+06</td>\n",
       "      <td>1.267152e+06</td>\n",
       "      <td>5.354237e+05</td>\n",
       "      <td>448713.696171</td>\n",
       "      <td>3.570125e+05</td>\n",
       "      <td>6.440000e-04</td>\n",
       "      <td>456480.078611</td>\n",
       "      <td>4.112000e+01</td>\n",
       "      <td>234790.819783</td>\n",
       "      <td>...</td>\n",
       "      <td>0.004513</td>\n",
       "      <td>0.000298</td>\n",
       "      <td>0.002576</td>\n",
       "      <td>0.000000</td>\n",
       "      <td>0.000000</td>\n",
       "      <td>0.000000</td>\n",
       "      <td>0.000000</td>\n",
       "      <td>0.000240</td>\n",
       "      <td>0.005167</td>\n",
       "      <td>1.138207</td>\n",
       "    </tr>\n",
       "    <tr>\n",
       "      <th>75%</th>\n",
       "      <td>1.528657e+06</td>\n",
       "      <td>1.925716e+06</td>\n",
       "      <td>1.501495e+06</td>\n",
       "      <td>6.220241e+05</td>\n",
       "      <td>500654.948462</td>\n",
       "      <td>7.321472e+05</td>\n",
       "      <td>5.134453e+05</td>\n",
       "      <td>506943.188842</td>\n",
       "      <td>7.843650e+05</td>\n",
       "      <td>430222.851861</td>\n",
       "      <td>...</td>\n",
       "      <td>0.004513</td>\n",
       "      <td>0.000298</td>\n",
       "      <td>8.443601</td>\n",
       "      <td>0.000000</td>\n",
       "      <td>0.000000</td>\n",
       "      <td>0.000000</td>\n",
       "      <td>0.000000</td>\n",
       "      <td>0.000240</td>\n",
       "      <td>0.005167</td>\n",
       "      <td>13.110225</td>\n",
       "    </tr>\n",
       "    <tr>\n",
       "      <th>max</th>\n",
       "      <td>1.691182e+06</td>\n",
       "      <td>2.797214e+06</td>\n",
       "      <td>1.537225e+06</td>\n",
       "      <td>1.289074e+06</td>\n",
       "      <td>666599.645353</td>\n",
       "      <td>1.140551e+06</td>\n",
       "      <td>2.893356e+06</td>\n",
       "      <td>945275.207550</td>\n",
       "      <td>1.870553e+06</td>\n",
       "      <td>941901.150813</td>\n",
       "      <td>...</td>\n",
       "      <td>60147.882397</td>\n",
       "      <td>54477.931236</td>\n",
       "      <td>53963.623022</td>\n",
       "      <td>19488.919115</td>\n",
       "      <td>40196.252849</td>\n",
       "      <td>149339.058626</td>\n",
       "      <td>48954.705065</td>\n",
       "      <td>19856.124457</td>\n",
       "      <td>19717.938344</td>\n",
       "      <td>1540.744330</td>\n",
       "    </tr>\n",
       "  </tbody>\n",
       "</table>\n",
       "<p>8 rows × 69 columns</p>\n",
       "</div>"
      ],
      "text/plain": [
       "        utorrentcom  superflixnet  thepiratebayorg       vizertv  \\\n",
       "count  1.368000e+03  1.368000e+03     1.368000e+03  1.368000e+03   \n",
       "mean   1.422499e+06  1.245146e+06     1.175270e+06  4.769613e+05   \n",
       "std    1.311989e+05  8.300944e+05     3.520659e+05  3.408549e+05   \n",
       "min    8.060442e+05  0.000000e+00     1.580593e+03  0.000000e+00   \n",
       "25%    1.328407e+06  9.172623e+05     9.779898e+05  1.418891e+05   \n",
       "50%    1.413784e+06  1.250325e+06     1.267152e+06  5.354237e+05   \n",
       "75%    1.528657e+06  1.925716e+06     1.501495e+06  6.220241e+05   \n",
       "max    1.691182e+06  2.797214e+06     1.537225e+06  1.289074e+06   \n",
       "\n",
       "       seuseriadocom  assistirseriadosnet  animesonlinecc  \\\n",
       "count    1368.000000         1.368000e+03    1.368000e+03   \n",
       "mean   459530.393422         4.541377e+05    4.484172e+05   \n",
       "std     65199.797832         3.218354e+05    7.779182e+05   \n",
       "min     24024.944127         2.000000e-06    3.450000e-04   \n",
       "25%    432347.716078         2.153035e+05    6.440000e-04   \n",
       "50%    448713.696171         3.570125e+05    6.440000e-04   \n",
       "75%    500654.948462         7.321472e+05    5.134453e+05   \n",
       "max    666599.645353         1.140551e+06    2.893356e+06   \n",
       "\n",
       "       snaptubeappcomOUTLIER_MOSTLYOUTSIDEDOWNLOADS   maxseriestv  \\\n",
       "count                                   1368.000000  1.368000e+03   \n",
       "mean                                  443915.971580  3.297801e+05   \n",
       "std                                   143074.590429  5.561714e+05   \n",
       "min                                    65215.720679  4.112000e+01   \n",
       "25%                                   349609.555789  4.112000e+01   \n",
       "50%                                   456480.078611  4.112000e+01   \n",
       "75%                                   506943.188842  7.843650e+05   \n",
       "max                                   945275.207550  1.870553e+06   \n",
       "\n",
       "       megafilmeshdplusorg       ...         rjseriesorg      gtugacom  \\\n",
       "count          1368.000000       ...         1368.000000   1368.000000   \n",
       "mean         317066.837454       ...         3885.662383   3516.256336   \n",
       "std          225183.196952       ...        11313.721851  12769.534074   \n",
       "min           81088.450890       ...            0.004513      0.000298   \n",
       "25%          135833.004620       ...            0.004513      0.000298   \n",
       "50%          234790.819783       ...            0.004513      0.000298   \n",
       "75%          430222.851861       ...            0.004513      0.000298   \n",
       "max          941901.150813       ...        60147.882397  54477.931236   \n",
       "\n",
       "       oneflixhdnet    askflixnet  megaserieshdonline  redecanaisblog  \\\n",
       "count   1368.000000   1368.000000         1368.000000     1368.000000   \n",
       "mean    2665.878348   2573.676678         1344.023833     1318.372030   \n",
       "std     9014.906934   5576.513461         4379.683066     9231.767413   \n",
       "min        0.000000      0.000000            0.000000        0.000000   \n",
       "25%        0.002576      0.000000            0.000000        0.000000   \n",
       "50%        0.002576      0.000000            0.000000        0.000000   \n",
       "75%        8.443601      0.000000            0.000000        0.000000   \n",
       "max    53963.623022  19488.919115        40196.252849   149339.058626   \n",
       "\n",
       "       filmeseriesonlinehdorg   overflixvip   filmeshdtop  tugastreamclub  \n",
       "count             1368.000000   1368.000000   1368.000000     1368.000000  \n",
       "mean               712.804497    257.972132    247.113732       60.147268  \n",
       "std               3956.204397   1456.035906   1733.514742      224.277244  \n",
       "min                  0.000000      0.000240      0.004034        0.000000  \n",
       "25%                  0.000000      0.000240      0.005167        0.000000  \n",
       "50%                  0.000000      0.000240      0.005167        1.138207  \n",
       "75%                  0.000000      0.000240      0.005167       13.110225  \n",
       "max              48954.705065  19856.124457  19717.938344     1540.744330  \n",
       "\n",
       "[8 rows x 69 columns]"
      ]
     },
     "execution_count": 67,
     "metadata": {},
     "output_type": "execute_result"
    }
   ],
   "source": [
    "prt.describe().sort_values(by='mean', axis=1, ascending=False)"
   ]
  },
  {
   "cell_type": "code",
   "execution_count": 74,
   "metadata": {},
   "outputs": [
    {
     "data": {
      "text/plain": [
       "<matplotlib.axes._subplots.AxesSubplot at 0x1816caa5470>"
      ]
     },
     "execution_count": 74,
     "metadata": {},
     "output_type": "execute_result"
    },
    {
     "data": {
      "image/png": "[encoded data removed]",
      "text/plain": [
       "<Figure size 792x288 with 1 Axes>"
      ]
     },
     "metadata": {},
     "output_type": "display_data"
    }
   ],
   "source": [
    "prt.asfreq('w').sum(axis=1).plot()"
   ]
  },
  {
   "cell_type": "code",
   "execution_count": 75,
   "metadata": {},
   "outputs": [
    {
     "data": {
      "text/plain": [
       "<matplotlib.axes._subplots.AxesSubplot at 0x1816cb1c898>"
      ]
     },
     "execution_count": 75,
     "metadata": {},
     "output_type": "execute_result"
    },
    {
     "data": {
      "image/png": "[encoded data removed]",
      "text/plain": [
       "<Figure size 792x288 with 1 Axes>"
      ]
     },
     "metadata": {},
     "output_type": "display_data"
    }
   ],
   "source": [
    "prt.sum(axis=1).plot()\n",
    "# período diário introduz muita variabilidade, usar período semanal para ficar mais simples"
   ]
  },
  {
   "cell_type": "code",
   "execution_count": 66,
   "metadata": {},
   "outputs": [
    {
     "data": {
      "text/html": [
       "<div>\n",
       "<style scoped>\n",
       "    .dataframe tbody tr th:only-of-type {\n",
       "        vertical-align: middle;\n",
       "    }\n",
       "\n",
       "    .dataframe tbody tr th {\n",
       "        vertical-align: top;\n",
       "    }\n",
       "\n",
       "    .dataframe thead th {\n",
       "        text-align: right;\n",
       "    }\n",
       "</style>\n",
       "<table border=\"1\" class=\"dataframe\">\n",
       "  <thead>\n",
       "    <tr style=\"text-align: right;\">\n",
       "      <th></th>\n",
       "      <th>netflixcom</th>\n",
       "      <th>globoplayglobocom</th>\n",
       "      <th>primevideocom</th>\n",
       "      <th>telecineplaycombr</th>\n",
       "      <th>crunchyrollcom</th>\n",
       "      <th>nowonlinecombr</th>\n",
       "      <th>vikicom</th>\n",
       "      <th>hbogocombr</th>\n",
       "      <th>lookecombr</th>\n",
       "      <th>hulucom</th>\n",
       "      <th>playpluscom</th>\n",
       "      <th>mubicom</th>\n",
       "      <th>oldflixcombr</th>\n",
       "    </tr>\n",
       "  </thead>\n",
       "  <tbody>\n",
       "    <tr>\n",
       "      <th>count</th>\n",
       "      <td>1.369000e+03</td>\n",
       "      <td>1.369000e+03</td>\n",
       "      <td>1.369000e+03</td>\n",
       "      <td>1.369000e+03</td>\n",
       "      <td>1.369000e+03</td>\n",
       "      <td>1.369000e+03</td>\n",
       "      <td>1369.000000</td>\n",
       "      <td>1369.000000</td>\n",
       "      <td>1.369000e+03</td>\n",
       "      <td>1369.000000</td>\n",
       "      <td>1369.000000</td>\n",
       "      <td>1369.000000</td>\n",
       "      <td>1369.000000</td>\n",
       "    </tr>\n",
       "    <tr>\n",
       "      <th>mean</th>\n",
       "      <td>3.588332e+07</td>\n",
       "      <td>1.611941e+07</td>\n",
       "      <td>1.774042e+06</td>\n",
       "      <td>1.716750e+06</td>\n",
       "      <td>1.196773e+06</td>\n",
       "      <td>9.706536e+05</td>\n",
       "      <td>450331.631863</td>\n",
       "      <td>416318.724651</td>\n",
       "      <td>3.312325e+05</td>\n",
       "      <td>51415.686671</td>\n",
       "      <td>38689.873025</td>\n",
       "      <td>31171.762835</td>\n",
       "      <td>18429.508417</td>\n",
       "    </tr>\n",
       "    <tr>\n",
       "      <th>std</th>\n",
       "      <td>1.683163e+06</td>\n",
       "      <td>4.504879e+06</td>\n",
       "      <td>6.036334e+05</td>\n",
       "      <td>1.333981e+06</td>\n",
       "      <td>7.185432e+05</td>\n",
       "      <td>3.297178e+05</td>\n",
       "      <td>63570.663007</td>\n",
       "      <td>72781.790576</td>\n",
       "      <td>3.097796e+05</td>\n",
       "      <td>8764.848345</td>\n",
       "      <td>39657.913189</td>\n",
       "      <td>4355.316879</td>\n",
       "      <td>10141.472226</td>\n",
       "    </tr>\n",
       "    <tr>\n",
       "      <th>min</th>\n",
       "      <td>5.431268e+06</td>\n",
       "      <td>8.822731e+06</td>\n",
       "      <td>6.322595e+05</td>\n",
       "      <td>1.566342e+03</td>\n",
       "      <td>2.476668e+05</td>\n",
       "      <td>2.816799e+05</td>\n",
       "      <td>259363.988342</td>\n",
       "      <td>5862.510940</td>\n",
       "      <td>5.581662e+04</td>\n",
       "      <td>7748.439799</td>\n",
       "      <td>447.274600</td>\n",
       "      <td>10223.773021</td>\n",
       "      <td>9205.931829</td>\n",
       "    </tr>\n",
       "    <tr>\n",
       "      <th>25%</th>\n",
       "      <td>3.496587e+07</td>\n",
       "      <td>1.166358e+07</td>\n",
       "      <td>1.231690e+06</td>\n",
       "      <td>5.458741e+05</td>\n",
       "      <td>5.013023e+05</td>\n",
       "      <td>6.958844e+05</td>\n",
       "      <td>417823.218286</td>\n",
       "      <td>423584.079971</td>\n",
       "      <td>7.349789e+04</td>\n",
       "      <td>45012.638190</td>\n",
       "      <td>1329.020000</td>\n",
       "      <td>28120.288950</td>\n",
       "      <td>10959.243030</td>\n",
       "    </tr>\n",
       "    <tr>\n",
       "      <th>50%</th>\n",
       "      <td>3.605410e+07</td>\n",
       "      <td>1.722262e+07</td>\n",
       "      <td>1.717757e+06</td>\n",
       "      <td>1.321324e+06</td>\n",
       "      <td>7.916921e+05</td>\n",
       "      <td>8.859373e+05</td>\n",
       "      <td>444800.488311</td>\n",
       "      <td>431615.855736</td>\n",
       "      <td>1.794850e+05</td>\n",
       "      <td>53114.030656</td>\n",
       "      <td>1470.762567</td>\n",
       "      <td>29479.763358</td>\n",
       "      <td>15579.196223</td>\n",
       "    </tr>\n",
       "    <tr>\n",
       "      <th>75%</th>\n",
       "      <td>3.647190e+07</td>\n",
       "      <td>1.887552e+07</td>\n",
       "      <td>2.383533e+06</td>\n",
       "      <td>2.964409e+06</td>\n",
       "      <td>1.938306e+06</td>\n",
       "      <td>1.196756e+06</td>\n",
       "      <td>509237.990517</td>\n",
       "      <td>439852.056674</td>\n",
       "      <td>5.652467e+05</td>\n",
       "      <td>56732.413403</td>\n",
       "      <td>79836.801009</td>\n",
       "      <td>33812.164061</td>\n",
       "      <td>20589.918010</td>\n",
       "    </tr>\n",
       "    <tr>\n",
       "      <th>max</th>\n",
       "      <td>3.905315e+07</td>\n",
       "      <td>2.733926e+07</td>\n",
       "      <td>4.648665e+06</td>\n",
       "      <td>4.381903e+06</td>\n",
       "      <td>2.534630e+06</td>\n",
       "      <td>2.089467e+06</td>\n",
       "      <td>560040.816419</td>\n",
       "      <td>488592.922424</td>\n",
       "      <td>1.920085e+06</td>\n",
       "      <td>106390.730147</td>\n",
       "      <td>119666.773263</td>\n",
       "      <td>42210.173491</td>\n",
       "      <td>62818.529100</td>\n",
       "    </tr>\n",
       "  </tbody>\n",
       "</table>\n",
       "</div>"
      ],
      "text/plain": [
       "         netflixcom  globoplayglobocom  primevideocom  telecineplaycombr  \\\n",
       "count  1.369000e+03       1.369000e+03   1.369000e+03       1.369000e+03   \n",
       "mean   3.588332e+07       1.611941e+07   1.774042e+06       1.716750e+06   \n",
       "std    1.683163e+06       4.504879e+06   6.036334e+05       1.333981e+06   \n",
       "min    5.431268e+06       8.822731e+06   6.322595e+05       1.566342e+03   \n",
       "25%    3.496587e+07       1.166358e+07   1.231690e+06       5.458741e+05   \n",
       "50%    3.605410e+07       1.722262e+07   1.717757e+06       1.321324e+06   \n",
       "75%    3.647190e+07       1.887552e+07   2.383533e+06       2.964409e+06   \n",
       "max    3.905315e+07       2.733926e+07   4.648665e+06       4.381903e+06   \n",
       "\n",
       "       crunchyrollcom  nowonlinecombr        vikicom     hbogocombr  \\\n",
       "count    1.369000e+03    1.369000e+03    1369.000000    1369.000000   \n",
       "mean     1.196773e+06    9.706536e+05  450331.631863  416318.724651   \n",
       "std      7.185432e+05    3.297178e+05   63570.663007   72781.790576   \n",
       "min      2.476668e+05    2.816799e+05  259363.988342    5862.510940   \n",
       "25%      5.013023e+05    6.958844e+05  417823.218286  423584.079971   \n",
       "50%      7.916921e+05    8.859373e+05  444800.488311  431615.855736   \n",
       "75%      1.938306e+06    1.196756e+06  509237.990517  439852.056674   \n",
       "max      2.534630e+06    2.089467e+06  560040.816419  488592.922424   \n",
       "\n",
       "         lookecombr        hulucom    playpluscom       mubicom  oldflixcombr  \n",
       "count  1.369000e+03    1369.000000    1369.000000   1369.000000   1369.000000  \n",
       "mean   3.312325e+05   51415.686671   38689.873025  31171.762835  18429.508417  \n",
       "std    3.097796e+05    8764.848345   39657.913189   4355.316879  10141.472226  \n",
       "min    5.581662e+04    7748.439799     447.274600  10223.773021   9205.931829  \n",
       "25%    7.349789e+04   45012.638190    1329.020000  28120.288950  10959.243030  \n",
       "50%    1.794850e+05   53114.030656    1470.762567  29479.763358  15579.196223  \n",
       "75%    5.652467e+05   56732.413403   79836.801009  33812.164061  20589.918010  \n",
       "max    1.920085e+06  106390.730147  119666.773263  42210.173491  62818.529100  "
      ]
     },
     "execution_count": 66,
     "metadata": {},
     "output_type": "execute_result"
    }
   ],
   "source": [
    "lgt.describe().sort_values(by='mean', axis=1, ascending=False)"
   ]
  },
  {
   "cell_type": "code",
   "execution_count": 76,
   "metadata": {},
   "outputs": [
    {
     "data": {
      "text/plain": [
       "<matplotlib.axes._subplots.AxesSubplot at 0x1816cb069b0>"
      ]
     },
     "execution_count": 76,
     "metadata": {},
     "output_type": "execute_result"
    },
    {
     "data": {
      "image/png": "[encoded data removed]",
      "text/plain": [
       "<Figure size 792x288 with 1 Axes>"
      ]
     },
     "metadata": {},
     "output_type": "display_data"
    }
   ],
   "source": [
    "lgt.asfreq('w').sum(axis=1).plot()"
   ]
  },
  {
   "cell_type": "code",
   "execution_count": 91,
   "metadata": {},
   "outputs": [],
   "source": [
    "totals = pd.DataFrame(prt.asfreq('w').sum(axis=1),columns=['Pirataria']).join(pd.DataFrame(lgt.asfreq('w').sum(axis=1),columns=['Legítimo']))"
   ]
  },
  {
   "cell_type": "code",
   "execution_count": 92,
   "metadata": {},
   "outputs": [
    {
     "data": {
      "text/plain": [
       "<matplotlib.axes._subplots.AxesSubplot at 0x1816cc33c88>"
      ]
     },
     "execution_count": 92,
     "metadata": {},
     "output_type": "execute_result"
    },
    {
     "data": {
      "image/png": "[encoded data removed]",
      "text/plain": [
       "<Figure size 792x288 with 1 Axes>"
      ]
     },
     "metadata": {},
     "output_type": "display_data"
    }
   ],
   "source": [
    "totals.plot()"
   ]
  }
 ],
 "metadata": {
  "kernelspec": {
   "display_name": "Python 3",
   "language": "python",
   "name": "python3"
  },
  "language_info": {
   "codemirror_mode": {
    "name": "ipython",
    "version": 3
   },
   "file_extension": ".py",
   "mimetype": "text/x-python",
   "name": "python",
   "nbconvert_exporter": "python",
   "pygments_lexer": "ipython3",
   "version": "3.6.5"
  }
 },
 "nbformat": 4,
 "nbformat_minor": 2
}
